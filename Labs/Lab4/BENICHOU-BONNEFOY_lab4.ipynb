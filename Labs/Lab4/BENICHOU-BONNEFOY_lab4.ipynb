{
 "cells": [
  {
   "cell_type": "markdown",
   "metadata": {},
   "source": [
    "# Practical session 4 - K-nearest neighbours (K-NN) classification with numpy, scikit-learn, cython and numba\n",
    "\n",
    "Students (pair):\n",
    "- [BENICHOU Yaniv](https://github.com/benech17)\n",
    "- [BONNEFOY Nicolas](https://github.com/Nicolas-Bonnefoy)"
   ]
  },
  {
   "cell_type": "markdown",
   "metadata": {},
   "source": [
    "**Useful references for this lab**:\n",
    "\n",
    "[1] scikit-learn: [documentation](https://scikit-learn.org/stable/modules/neighbors.html?highlight=knn%20classification)\n",
    "\n",
    "[2] `numba`: [documentation](http://numba.pydata.org/) \n",
    "\n",
    "[3] cython: [a very useful tutorial](https://cython.readthedocs.io/en/latest/src/userguide/numpy_tutorial.html#numpy-tutorial), and [another one](http://docs.cython.org/en/latest/src/tutorial/cython_tutorial.html)\n",
    "\n",
    "\n",
    "\n",
    "## <a name=\"content\">Contents</a>\n",
    "- [Exercise 1: KNN classification with numpy and sklearn](#ex1)\n",
    "- [Exercise 2: Code acceleration with cython](#ex2)\n",
    "- [Exercise 3: Code acceleration with numba](#ex3)\n",
    "---"
   ]
  },
  {
   "cell_type": "code",
   "execution_count": 1,
   "metadata": {},
   "outputs": [],
   "source": [
    "%load_ext autoreload\n",
    "%autoreload 2"
   ]
  },
  {
   "cell_type": "markdown",
   "metadata": {},
   "source": [
    "## <a name=\"ex1\">Exercise 1: K-Nearest Neighbours (K-NN) classification with numpy and scikit-learn</a> [(&#8593;)](#content)"
   ]
  },
  {
   "cell_type": "markdown",
   "metadata": {},
   "source": [
    "This session is a first introduction to classification using the most intuitive non parametric method: the $K$-nearest neighbours. The principle is [the following](https://scikit-learn.org/stable/modules/neighbors.html?highlight=knn%20classification). A set of labelled observations is given as a learning set. A classification taks then consists in assigning a label to any new observation. In particular, the K-NN approach consists in assigning to the observation the most frequent label among its $K$ nearest neighbours taken in the training set."
   ]
  },
  {
   "cell_type": "markdown",
   "metadata": {},
   "source": [
    "### A. Validation on synthetic data\n",
    "\n",
    "Load the training and test datasets `data/synth_train.txt` and `data/synth_test.txt`. Targets belong to the set $\\{1,2\\}$ and entries belong to $\\mathbb{R}^2$. The file `data/synth_train.txt` contain 100 training data samples, and `data/synth_test.txt` contains 200 test samples, where:\n",
    "\n",
    "- the 1st column contains the label of the class the sample;\n",
    "- columns 2 & 3 contain the coordinates of each sample (in $\\mathbb{R}^2$).\n",
    "\n",
    "Useful commands can be found below."
   ]
  },
  {
   "cell_type": "markdown",
   "metadata": {},
   "source": [
    "```python\n",
    "# load the training set\n",
    "train = np.loadtxt('data/synth_train.txt')  #...,delimiter=',') if there are ',' as delimiters\n",
    "class_train = train[:,0]\n",
    "x_train = train[:,1:]\n",
    "N_train = train.shape[0]\n",
    "```"
   ]
  },
  {
   "cell_type": "markdown",
   "metadata": {},
   "source": [
    "```python\n",
    "# load the test set\n",
    "test = np.loadtxt('/datasynth_test.txt') \n",
    "class_test_1 = test[test[:,0]==1]\n",
    "class_test_2 = test[test[:,0]==2]\n",
    "x_test = test[:,1:]\n",
    "N_test = test.shape[0]\n",
    "```"
   ]
  },
  {
   "cell_type": "markdown",
   "metadata": {},
   "source": [
    "1\\. Display the training set and distinguish the two classes. \n",
    "\n",
    "> Hint: useful functions include `matplotlib.pyplot.scatter` or `matplotlib.pyplot.plot`."
   ]
  },
  {
   "cell_type": "markdown",
   "metadata": {},
   "source": [
    "**Answer:**"
   ]
  },
  {
   "cell_type": "code",
   "execution_count": 2,
   "metadata": {},
   "outputs": [
    {
     "data": {
      "application/vnd.plotly.v1+json": {
       "config": {
        "plotlyServerURL": "https://plot.ly"
       },
       "data": [
        {
         "hovertemplate": "Label=2<br>Coordonnée X=%{x}<br>Coordonnée Y=%{y}<extra></extra>",
         "legendgroup": "2",
         "marker": {
          "color": "#636efa",
          "symbol": "circle"
         },
         "mode": "markers",
         "name": "2",
         "orientation": "v",
         "showlegend": true,
         "type": "scatter",
         "x": [
          -0.7222114129586,
          -0.924679116842047,
          -0.766022814943256,
          -0.0732894788556321,
          -0.202233388934873,
          0.481737671784873,
          -0.152468727259032,
          0.38635648749537,
          0.0875764309449853,
          -0.162870803458684,
          0.205627604169169,
          -0.678880330634291,
          0.451357146792761,
          -0.379447056101144,
          -0.67808924696543,
          -0.6353679482783,
          -0.394503312110074,
          0.361462943689775,
          -0.528663281188422,
          -0.251051039074415,
          0.0782884526153436,
          -0.508588755690403,
          0.408869378842243,
          -0.365647127226042,
          1.41253669598274,
          0.185369078583416,
          -0.236029032268647,
          -0.614293392873263,
          -0.099631142781541,
          0.29707583331245,
          0.241635652911538,
          -0.308059142141273,
          -0.297331480776794,
          0.0425462999904274,
          -0.293494487190976,
          0.0472196732520648,
          0.511434878557491,
          -0.439766514299069,
          0.579727620807449,
          -0.22587568551299,
          0.403359817740187,
          0.0639802809331373,
          -0.200549408990853,
          0.179212309999251,
          -0.684781628987495,
          -0.0732275755712657,
          -0.278834870223322,
          -0.932784740334326,
          -0.419301102755586,
          -0.102320397506266,
          0.246029751804449,
          0.477011782112795,
          0.166124402475656,
          0.392487504719149,
          0.26880633054516,
          -0.353530726637597,
          0.205995439006312,
          0.610733203164708,
          0.34783794294932,
          0.133976431089943,
          0.487540109560409,
          0.328137396161017,
          -0.307134275715141,
          0.622456405195283,
          0.023923605235643,
          1.25632667782585,
          -0.207777444410633,
          0.643678850830891,
          0.891230481942523,
          0.252066390681576,
          0.504207545290246,
          0.299918390809922,
          0.490412055618484,
          1.06136639629653,
          0.365892980043387,
          -1.1024698611437,
          0.115280444945432,
          0.222190799619655
         ],
         "xaxis": "x",
         "y": [
          2.00447087136242,
          0.483669283303616,
          0.794328908264858,
          0.969929147538923,
          1.35033191198506,
          0.984418575841914,
          0.922489686034523,
          0.366336720871723,
          0.932411534685466,
          0.630517186027526,
          0.902728059891789,
          0.519282489082532,
          1.02281328367944,
          0.892502892723954,
          0.969433620547686,
          1.29934918685766,
          0.327163230000664,
          1.25890893821093,
          1.26110462471585,
          0.3041819401222,
          1.44882862257848,
          1.2875665675783,
          1.49537607406398,
          0.943434089491931,
          1.54855990106491,
          1.0947339566202,
          1.55526095979461,
          1.38945066226994,
          1.12167183608714,
          0.685937988358744,
          1.44307731093209,
          0.616810573192588,
          1.64968595570792,
          0.808982969980399,
          0.944090798130192,
          1.50461364233168,
          0.590927353613734,
          1.1721005687771,
          1.49159036959202,
          0.787129098143246,
          1.06184402730383,
          1.71779511292622,
          1.07531583235228,
          1.33051886263733,
          1.22567327645858,
          1.27133904319531,
          0.396216850503442,
          1.10552625678307,
          0.695197243837259,
          0.765296493992673,
          1.82964712136056,
          0.0611918456353968,
          0.832661929923749,
          1.46224249843351,
          0.698569846489762,
          0.781098791781922,
          2.33022515439259,
          0.26755191141353,
          0.754523597335553,
          1.13245178008424,
          0.839583040875595,
          1.05381391421355,
          1.21094298929596,
          0.398273208283436,
          -0.0473318420892674,
          0.896163773144661,
          1.17187213473804,
          1.90840839163394,
          1.73158341544632,
          0.848664430272533,
          1.06331255073084,
          0.950756757796549,
          0.821936045253742,
          0.788056076691746,
          1.71060938237464,
          0.618737913541539,
          1.87763315549822,
          1.03704295357252
         ],
         "yaxis": "y"
        },
        {
         "hovertemplate": "Label=1<br>Coordonnée X=%{x}<br>Coordonnée Y=%{y}<extra></extra>",
         "legendgroup": "1",
         "marker": {
          "color": "#EF553B",
          "symbol": "circle"
         },
         "mode": "markers",
         "name": "1",
         "orientation": "v",
         "showlegend": true,
         "type": "scatter",
         "x": [
          -1.39291197731283,
          -1.8655121173883,
          -0.631309441163341,
          -2.30408372892482,
          -1.6439848395597,
          -1.86566438019087,
          -1.31699917881368,
          -1.26626456003945,
          -1.66770622666567,
          -0.222492292076254,
          -1.1892336014914,
          0.357859266241446,
          -1.07534587024242,
          -1.07196807487457,
          -1.40721089942489,
          -1.45327218253849,
          0.317452811019433,
          -0.693623079484142,
          -0.651352405455385,
          -2.24047850877093,
          -0.688766771564921,
          -2.06428441900782
         ],
         "xaxis": "x",
         "y": [
          0.999697089649905,
          1.54773159042401,
          1.66060671402444,
          1.38069898840687,
          1.52199681104139,
          0.292956871515864,
          0.932311221709179,
          2.28600726481963,
          1.21968201824743,
          1.98252437260598,
          1.99198866550859,
          3.35842349881369,
          1.83307889669395,
          2.87218367130169,
          1.71273051006468,
          2.02246219076283,
          2.8662885931298,
          2.24206585399344,
          1.80895864388631,
          1.04991147162741,
          1.33671775150787,
          2.38517335491812
         ],
         "yaxis": "y"
        }
       ],
       "layout": {
        "legend": {
         "title": {
          "text": "Label"
         },
         "tracegroupgap": 0
        },
        "template": {
         "data": {
          "bar": [
           {
            "error_x": {
             "color": "#2a3f5f"
            },
            "error_y": {
             "color": "#2a3f5f"
            },
            "marker": {
             "line": {
              "color": "#E5ECF6",
              "width": 0.5
             },
             "pattern": {
              "fillmode": "overlay",
              "size": 10,
              "solidity": 0.2
             }
            },
            "type": "bar"
           }
          ],
          "barpolar": [
           {
            "marker": {
             "line": {
              "color": "#E5ECF6",
              "width": 0.5
             },
             "pattern": {
              "fillmode": "overlay",
              "size": 10,
              "solidity": 0.2
             }
            },
            "type": "barpolar"
           }
          ],
          "carpet": [
           {
            "aaxis": {
             "endlinecolor": "#2a3f5f",
             "gridcolor": "white",
             "linecolor": "white",
             "minorgridcolor": "white",
             "startlinecolor": "#2a3f5f"
            },
            "baxis": {
             "endlinecolor": "#2a3f5f",
             "gridcolor": "white",
             "linecolor": "white",
             "minorgridcolor": "white",
             "startlinecolor": "#2a3f5f"
            },
            "type": "carpet"
           }
          ],
          "choropleth": [
           {
            "colorbar": {
             "outlinewidth": 0,
             "ticks": ""
            },
            "type": "choropleth"
           }
          ],
          "contour": [
           {
            "colorbar": {
             "outlinewidth": 0,
             "ticks": ""
            },
            "colorscale": [
             [
              0,
              "#0d0887"
             ],
             [
              0.1111111111111111,
              "#46039f"
             ],
             [
              0.2222222222222222,
              "#7201a8"
             ],
             [
              0.3333333333333333,
              "#9c179e"
             ],
             [
              0.4444444444444444,
              "#bd3786"
             ],
             [
              0.5555555555555556,
              "#d8576b"
             ],
             [
              0.6666666666666666,
              "#ed7953"
             ],
             [
              0.7777777777777778,
              "#fb9f3a"
             ],
             [
              0.8888888888888888,
              "#fdca26"
             ],
             [
              1,
              "#f0f921"
             ]
            ],
            "type": "contour"
           }
          ],
          "contourcarpet": [
           {
            "colorbar": {
             "outlinewidth": 0,
             "ticks": ""
            },
            "type": "contourcarpet"
           }
          ],
          "heatmap": [
           {
            "colorbar": {
             "outlinewidth": 0,
             "ticks": ""
            },
            "colorscale": [
             [
              0,
              "#0d0887"
             ],
             [
              0.1111111111111111,
              "#46039f"
             ],
             [
              0.2222222222222222,
              "#7201a8"
             ],
             [
              0.3333333333333333,
              "#9c179e"
             ],
             [
              0.4444444444444444,
              "#bd3786"
             ],
             [
              0.5555555555555556,
              "#d8576b"
             ],
             [
              0.6666666666666666,
              "#ed7953"
             ],
             [
              0.7777777777777778,
              "#fb9f3a"
             ],
             [
              0.8888888888888888,
              "#fdca26"
             ],
             [
              1,
              "#f0f921"
             ]
            ],
            "type": "heatmap"
           }
          ],
          "heatmapgl": [
           {
            "colorbar": {
             "outlinewidth": 0,
             "ticks": ""
            },
            "colorscale": [
             [
              0,
              "#0d0887"
             ],
             [
              0.1111111111111111,
              "#46039f"
             ],
             [
              0.2222222222222222,
              "#7201a8"
             ],
             [
              0.3333333333333333,
              "#9c179e"
             ],
             [
              0.4444444444444444,
              "#bd3786"
             ],
             [
              0.5555555555555556,
              "#d8576b"
             ],
             [
              0.6666666666666666,
              "#ed7953"
             ],
             [
              0.7777777777777778,
              "#fb9f3a"
             ],
             [
              0.8888888888888888,
              "#fdca26"
             ],
             [
              1,
              "#f0f921"
             ]
            ],
            "type": "heatmapgl"
           }
          ],
          "histogram": [
           {
            "marker": {
             "pattern": {
              "fillmode": "overlay",
              "size": 10,
              "solidity": 0.2
             }
            },
            "type": "histogram"
           }
          ],
          "histogram2d": [
           {
            "colorbar": {
             "outlinewidth": 0,
             "ticks": ""
            },
            "colorscale": [
             [
              0,
              "#0d0887"
             ],
             [
              0.1111111111111111,
              "#46039f"
             ],
             [
              0.2222222222222222,
              "#7201a8"
             ],
             [
              0.3333333333333333,
              "#9c179e"
             ],
             [
              0.4444444444444444,
              "#bd3786"
             ],
             [
              0.5555555555555556,
              "#d8576b"
             ],
             [
              0.6666666666666666,
              "#ed7953"
             ],
             [
              0.7777777777777778,
              "#fb9f3a"
             ],
             [
              0.8888888888888888,
              "#fdca26"
             ],
             [
              1,
              "#f0f921"
             ]
            ],
            "type": "histogram2d"
           }
          ],
          "histogram2dcontour": [
           {
            "colorbar": {
             "outlinewidth": 0,
             "ticks": ""
            },
            "colorscale": [
             [
              0,
              "#0d0887"
             ],
             [
              0.1111111111111111,
              "#46039f"
             ],
             [
              0.2222222222222222,
              "#7201a8"
             ],
             [
              0.3333333333333333,
              "#9c179e"
             ],
             [
              0.4444444444444444,
              "#bd3786"
             ],
             [
              0.5555555555555556,
              "#d8576b"
             ],
             [
              0.6666666666666666,
              "#ed7953"
             ],
             [
              0.7777777777777778,
              "#fb9f3a"
             ],
             [
              0.8888888888888888,
              "#fdca26"
             ],
             [
              1,
              "#f0f921"
             ]
            ],
            "type": "histogram2dcontour"
           }
          ],
          "mesh3d": [
           {
            "colorbar": {
             "outlinewidth": 0,
             "ticks": ""
            },
            "type": "mesh3d"
           }
          ],
          "parcoords": [
           {
            "line": {
             "colorbar": {
              "outlinewidth": 0,
              "ticks": ""
             }
            },
            "type": "parcoords"
           }
          ],
          "pie": [
           {
            "automargin": true,
            "type": "pie"
           }
          ],
          "scatter": [
           {
            "fillpattern": {
             "fillmode": "overlay",
             "size": 10,
             "solidity": 0.2
            },
            "type": "scatter"
           }
          ],
          "scatter3d": [
           {
            "line": {
             "colorbar": {
              "outlinewidth": 0,
              "ticks": ""
             }
            },
            "marker": {
             "colorbar": {
              "outlinewidth": 0,
              "ticks": ""
             }
            },
            "type": "scatter3d"
           }
          ],
          "scattercarpet": [
           {
            "marker": {
             "colorbar": {
              "outlinewidth": 0,
              "ticks": ""
             }
            },
            "type": "scattercarpet"
           }
          ],
          "scattergeo": [
           {
            "marker": {
             "colorbar": {
              "outlinewidth": 0,
              "ticks": ""
             }
            },
            "type": "scattergeo"
           }
          ],
          "scattergl": [
           {
            "marker": {
             "colorbar": {
              "outlinewidth": 0,
              "ticks": ""
             }
            },
            "type": "scattergl"
           }
          ],
          "scattermapbox": [
           {
            "marker": {
             "colorbar": {
              "outlinewidth": 0,
              "ticks": ""
             }
            },
            "type": "scattermapbox"
           }
          ],
          "scatterpolar": [
           {
            "marker": {
             "colorbar": {
              "outlinewidth": 0,
              "ticks": ""
             }
            },
            "type": "scatterpolar"
           }
          ],
          "scatterpolargl": [
           {
            "marker": {
             "colorbar": {
              "outlinewidth": 0,
              "ticks": ""
             }
            },
            "type": "scatterpolargl"
           }
          ],
          "scatterternary": [
           {
            "marker": {
             "colorbar": {
              "outlinewidth": 0,
              "ticks": ""
             }
            },
            "type": "scatterternary"
           }
          ],
          "surface": [
           {
            "colorbar": {
             "outlinewidth": 0,
             "ticks": ""
            },
            "colorscale": [
             [
              0,
              "#0d0887"
             ],
             [
              0.1111111111111111,
              "#46039f"
             ],
             [
              0.2222222222222222,
              "#7201a8"
             ],
             [
              0.3333333333333333,
              "#9c179e"
             ],
             [
              0.4444444444444444,
              "#bd3786"
             ],
             [
              0.5555555555555556,
              "#d8576b"
             ],
             [
              0.6666666666666666,
              "#ed7953"
             ],
             [
              0.7777777777777778,
              "#fb9f3a"
             ],
             [
              0.8888888888888888,
              "#fdca26"
             ],
             [
              1,
              "#f0f921"
             ]
            ],
            "type": "surface"
           }
          ],
          "table": [
           {
            "cells": {
             "fill": {
              "color": "#EBF0F8"
             },
             "line": {
              "color": "white"
             }
            },
            "header": {
             "fill": {
              "color": "#C8D4E3"
             },
             "line": {
              "color": "white"
             }
            },
            "type": "table"
           }
          ]
         },
         "layout": {
          "annotationdefaults": {
           "arrowcolor": "#2a3f5f",
           "arrowhead": 0,
           "arrowwidth": 1
          },
          "autotypenumbers": "strict",
          "coloraxis": {
           "colorbar": {
            "outlinewidth": 0,
            "ticks": ""
           }
          },
          "colorscale": {
           "diverging": [
            [
             0,
             "#8e0152"
            ],
            [
             0.1,
             "#c51b7d"
            ],
            [
             0.2,
             "#de77ae"
            ],
            [
             0.3,
             "#f1b6da"
            ],
            [
             0.4,
             "#fde0ef"
            ],
            [
             0.5,
             "#f7f7f7"
            ],
            [
             0.6,
             "#e6f5d0"
            ],
            [
             0.7,
             "#b8e186"
            ],
            [
             0.8,
             "#7fbc41"
            ],
            [
             0.9,
             "#4d9221"
            ],
            [
             1,
             "#276419"
            ]
           ],
           "sequential": [
            [
             0,
             "#0d0887"
            ],
            [
             0.1111111111111111,
             "#46039f"
            ],
            [
             0.2222222222222222,
             "#7201a8"
            ],
            [
             0.3333333333333333,
             "#9c179e"
            ],
            [
             0.4444444444444444,
             "#bd3786"
            ],
            [
             0.5555555555555556,
             "#d8576b"
            ],
            [
             0.6666666666666666,
             "#ed7953"
            ],
            [
             0.7777777777777778,
             "#fb9f3a"
            ],
            [
             0.8888888888888888,
             "#fdca26"
            ],
            [
             1,
             "#f0f921"
            ]
           ],
           "sequentialminus": [
            [
             0,
             "#0d0887"
            ],
            [
             0.1111111111111111,
             "#46039f"
            ],
            [
             0.2222222222222222,
             "#7201a8"
            ],
            [
             0.3333333333333333,
             "#9c179e"
            ],
            [
             0.4444444444444444,
             "#bd3786"
            ],
            [
             0.5555555555555556,
             "#d8576b"
            ],
            [
             0.6666666666666666,
             "#ed7953"
            ],
            [
             0.7777777777777778,
             "#fb9f3a"
            ],
            [
             0.8888888888888888,
             "#fdca26"
            ],
            [
             1,
             "#f0f921"
            ]
           ]
          },
          "colorway": [
           "#636efa",
           "#EF553B",
           "#00cc96",
           "#ab63fa",
           "#FFA15A",
           "#19d3f3",
           "#FF6692",
           "#B6E880",
           "#FF97FF",
           "#FECB52"
          ],
          "font": {
           "color": "#2a3f5f"
          },
          "geo": {
           "bgcolor": "white",
           "lakecolor": "white",
           "landcolor": "#E5ECF6",
           "showlakes": true,
           "showland": true,
           "subunitcolor": "white"
          },
          "hoverlabel": {
           "align": "left"
          },
          "hovermode": "closest",
          "mapbox": {
           "style": "light"
          },
          "paper_bgcolor": "white",
          "plot_bgcolor": "#E5ECF6",
          "polar": {
           "angularaxis": {
            "gridcolor": "white",
            "linecolor": "white",
            "ticks": ""
           },
           "bgcolor": "#E5ECF6",
           "radialaxis": {
            "gridcolor": "white",
            "linecolor": "white",
            "ticks": ""
           }
          },
          "scene": {
           "xaxis": {
            "backgroundcolor": "#E5ECF6",
            "gridcolor": "white",
            "gridwidth": 2,
            "linecolor": "white",
            "showbackground": true,
            "ticks": "",
            "zerolinecolor": "white"
           },
           "yaxis": {
            "backgroundcolor": "#E5ECF6",
            "gridcolor": "white",
            "gridwidth": 2,
            "linecolor": "white",
            "showbackground": true,
            "ticks": "",
            "zerolinecolor": "white"
           },
           "zaxis": {
            "backgroundcolor": "#E5ECF6",
            "gridcolor": "white",
            "gridwidth": 2,
            "linecolor": "white",
            "showbackground": true,
            "ticks": "",
            "zerolinecolor": "white"
           }
          },
          "shapedefaults": {
           "line": {
            "color": "#2a3f5f"
           }
          },
          "ternary": {
           "aaxis": {
            "gridcolor": "white",
            "linecolor": "white",
            "ticks": ""
           },
           "baxis": {
            "gridcolor": "white",
            "linecolor": "white",
            "ticks": ""
           },
           "bgcolor": "#E5ECF6",
           "caxis": {
            "gridcolor": "white",
            "linecolor": "white",
            "ticks": ""
           }
          },
          "title": {
           "x": 0.05
          },
          "xaxis": {
           "automargin": true,
           "gridcolor": "white",
           "linecolor": "white",
           "ticks": "",
           "title": {
            "standoff": 15
           },
           "zerolinecolor": "white",
           "zerolinewidth": 2
          },
          "yaxis": {
           "automargin": true,
           "gridcolor": "white",
           "linecolor": "white",
           "ticks": "",
           "title": {
            "standoff": 15
           },
           "zerolinecolor": "white",
           "zerolinewidth": 2
          }
         }
        },
        "title": {
         "text": "Scatter plot des observations du Training Set"
        },
        "xaxis": {
         "anchor": "y",
         "domain": [
          0,
          1
         ],
         "title": {
          "text": "Coordonnée X"
         }
        },
        "yaxis": {
         "anchor": "x",
         "domain": [
          0,
          1
         ],
         "title": {
          "text": "Coordonnée Y"
         }
        }
       }
      }
     },
     "metadata": {},
     "output_type": "display_data"
    }
   ],
   "source": [
    "import numpy as np\n",
    "import plotly.express as px\n",
    "\n",
    "train = np.loadtxt('data/synth_train.txt')\n",
    "\n",
    "# Séparation des labels et des coordonnées\n",
    "class_train = train[:, 0].astype(int)\n",
    "x_train = train[:, 1:]\n",
    "N_train = train.shape[0]\n",
    "\n",
    "test = np.loadtxt('data/synth_test.txt') \n",
    "class_test = test[:, 0].astype(int)\n",
    "class_test_1 = test[test[:,0]==1]\n",
    "class_test_2 = test[test[:,0]==2]\n",
    "x_test = test[:,1:]\n",
    "N_test = test.shape[0]\n",
    "\n",
    "\n",
    "# Création du scatter plot avec plotly\n",
    "fig = px.scatter(x=x_train[:, 0], y=x_train[:, 1], color=class_train.astype(str), \n",
    "                 labels={'color': 'Label', 'x': 'Coordonnée X', 'y': 'Coordonnée Y'},\n",
    "                 title='Scatter plot des observations du Training Set')\n",
    "\n",
    "fig.show()"
   ]
  },
  {
   "cell_type": "markdown",
   "metadata": {},
   "source": [
    "2\\. Implement the K-nearest neighbours algorithm for classification.\n",
    "\n",
    "> Hint: \n",
    "> - useful functions include `numpy.linalg.norm`, `numpy.argsort`, `numpy.bincount`;\n",
    "> - implement the algorithm as a function rather than an object. This will drastically simplify the acceleration step using Cython.\n",
    "> - for an optimized partial sorting procedure, you may have a look at the [`bottleneck.argpartition` function](https://bottleneck.readthedocs.io/en/latest/reference.html#bottleneck.argpartition).\n",
    "> 1. Compute for each row in `x_test` (if necessary use `np.newaxis`) its distance with respect to `x_train`:\n",
    ">  - Use  `numpy.linalg.norm` (in which dimension this distance is computed ? Consider using `axis` argument)\n",
    "> 2. Sort the ordered collection of distances (indices from smallest to largest (in ascending order) by the distances):\n",
    ">   - Use `np.argsort` (at the end replace this procedure by `bottleneck.argpartition`)\n",
    ">   - Once the sorting is done, we take only the indices of `labels` of the `n_neighbours` nearest neighbours of the `class_train` :\n",
    ">     - `id = np.argsort(distances)[:n_ neighbours]` and `labels = class_train[id]`\n",
    "> 3. The K-nearest can be used for **Regression**, in this case it is necessary to return the mean of the K-labels. For **Classification**,  we return the mode of the K-labels :\n",
    "> - Use `np.bincount` for `labels` to affect the variable `class_pred[q]` (for row `q`). This procedure counts the number of occurrences of each value in array. **Mode** is the value that appears. How can we get this value ?\n"
   ]
  },
  {
   "cell_type": "markdown",
   "metadata": {},
   "source": [
    "**Answer:**"
   ]
  },
  {
   "cell_type": "code",
   "execution_count": 3,
   "metadata": {},
   "outputs": [],
   "source": [
    "import bottleneck\n",
    "\n",
    "def knn_classification(x_train, class_train, x_test, n_neighbours=3):\n",
    "    \"\"\"\n",
    "    K-nearest neighbours algorithm for classification.\n",
    "\n",
    "    Parameters:\n",
    "    - x_train: Training data\n",
    "    - class_train: Class labels for training data\n",
    "    - x_test: Test data\n",
    "    - n_neighbours: Number of neighbours to consider\n",
    "\n",
    "    Returns:\n",
    "    - class_pred: Predicted class labels for test data\n",
    "    \"\"\"\n",
    "    \n",
    "    class_pred = np.empty(x_test.shape[0], dtype=class_train.dtype)\n",
    "    \n",
    "    for row, x in enumerate(x_test):\n",
    "        distances = np.linalg.norm(x_train - x[np.newaxis, :], axis=1)  \n",
    "        index = bottleneck.argpartition(distances, n_neighbours)[:n_neighbours]\n",
    "        class_pred[row] = np.bincount(class_train[index]).argmax()\n",
    "\n",
    "    return class_pred"
   ]
  },
  {
   "cell_type": "markdown",
   "metadata": {},
   "source": [
    "3\\. Compute the error rate on the training set and the test set for $K \\in \\{1,2, \\dotsc, 20\\}$. Display the classification result (see 1.) for the configuration with the lowest error rate."
   ]
  },
  {
   "cell_type": "markdown",
   "metadata": {},
   "source": [
    "**Answer:**"
   ]
  },
  {
   "cell_type": "code",
   "execution_count": 4,
   "metadata": {},
   "outputs": [
    {
     "name": "stdout",
     "output_type": "stream",
     "text": [
      "Best K: 3\n",
      "Train Error Rate for Best K: 0.03\n",
      "Test Error Rate for Best K: 0.045\n",
      "Classification results for best K (3):\n",
      "[2 2 2 2 2 2 2 2 2 1 2 1 1 2 1 2 2 1 1 2 2 1 2 1 2 2 1 2 2 1 2 1 2 1 2 2 1\n",
      " 1 2 2 1 2 2 2 2 2 2 1 1 2 2 1 1 1 2 2 1 2 2 2 2 2 2 1 2 2 2 1 2 2 2 1 2 2\n",
      " 1 1 2 2 1 1 1 2 1 2 2 2 1 1 2 2 2 2 2 2 2 2 2 2 1 2 2 2 2 2 2 2 2 1 2 2 2\n",
      " 2 2 2 2 2 1 2 2 2 2 2 2 1 2 1 2 2 2 2 2 2 2 2 1 1 2 2 2 2 2 2 1 1 1 2 2 2\n",
      " 1 2 2 2 2 2 1 2 2 2 2 2 1 2 2 1 2 2 2 1 2 2 1 2 2 2 1 2 2 1 2 2 2 2 2 2 1\n",
      " 2 2 1 1 2 1 1 1 2 2 2 2 2 2 1]\n"
     ]
    }
   ],
   "source": [
    "def compute_error_rate(true_labels, predicted_labels):\n",
    "    return np.mean(true_labels != predicted_labels)\n",
    "\n",
    "train_errors = []\n",
    "test_errors = []\n",
    "\n",
    "for K in range(1, 21):\n",
    "    train_pred = knn_classification(x_train, class_train, x_train, n_neighbours=K)\n",
    "    test_pred = knn_classification(x_train, class_train, x_test, n_neighbours=K)\n",
    "    \n",
    "    train_error = compute_error_rate(class_train, train_pred)\n",
    "    test_error = compute_error_rate(class_test, test_pred)\n",
    "    \n",
    "    train_errors.append(train_error)\n",
    "    test_errors.append(test_error)\n",
    "\n",
    "best_K = np.argmin(test_errors) + 1  # +1 because K starts from 1, not 0 as usual\n",
    "\n",
    "print(f\"Best K: {best_K}\")\n",
    "print(f\"Train Error Rate for Best K: {train_errors[best_K-1]}\")\n",
    "print(f\"Test Error Rate for Best K: {test_errors[best_K-1]}\")\n",
    "\n",
    "# Result for best K\n",
    "best_test_pred = knn_classification(x_train, class_train, x_test, n_neighbours=best_K)\n",
    "print(f\"Classification results for best K ({best_K}):\")\n",
    "print(best_test_pred)"
   ]
  },
  {
   "cell_type": "markdown",
   "metadata": {},
   "source": [
    "4\\. Comment on your results. Which value of $K$ seems optimal ?\n"
   ]
  },
  {
   "cell_type": "markdown",
   "metadata": {},
   "source": [
    "**Answer:**"
   ]
  },
  {
   "cell_type": "markdown",
   "metadata": {},
   "source": [
    "> The value of K which seems optimal is k=3 with a test error rate of 0.045. "
   ]
  },
  {
   "cell_type": "markdown",
   "metadata": {},
   "source": [
    "5\\. Compare the results of you implementation with those of [`sklearn.neighbors.KNeighborsClassifier`](https://scikit-learn.org/stable/modules/generated/sklearn.neighbors.KNeighborsClassifier.html?highlight=kneighborsclassifier#sklearn.neighbors.KNeighborsClassifier). Compare the runtime of these two versions using the [`timeit`](https://docs.python.org/3/library/timeit.html) module (see session 1)."
   ]
  },
  {
   "cell_type": "markdown",
   "metadata": {},
   "source": [
    "**Answer:**"
   ]
  },
  {
   "cell_type": "code",
   "execution_count": 5,
   "metadata": {},
   "outputs": [
    {
     "name": "stdout",
     "output_type": "stream",
     "text": [
      "Pour K=1:  sklearn KNN : 0.0266s\n",
      "Pour K=2:  sklearn KNN : 0.0269s\n",
      "Pour K=3:  sklearn KNN : 0.0275s\n",
      "Pour K=4:  sklearn KNN : 0.0274s\n",
      "Pour K=5:  sklearn KNN : 0.0276s\n",
      "Pour K=6:  sklearn KNN : 0.0278s\n",
      "Pour K=7:  sklearn KNN : 0.0286s\n",
      "Pour K=8:  sklearn KNN : 0.0289s\n",
      "Pour K=9:  sklearn KNN : 0.0284s\n",
      "Pour K=10:  sklearn KNN : 0.0284s\n",
      "Pour K=11:  sklearn KNN : 0.0290s\n",
      "Pour K=12:  sklearn KNN : 0.0289s\n",
      "Pour K=13:  sklearn KNN : 0.0290s\n",
      "Pour K=14:  sklearn KNN : 0.0300s\n",
      "Pour K=15:  sklearn KNN : 0.0315s\n",
      "Pour K=16:  sklearn KNN : 0.0310s\n",
      "Pour K=17:  sklearn KNN : 0.0307s\n",
      "Pour K=18:  sklearn KNN : 0.0307s\n",
      "Pour K=19:  sklearn KNN : 0.0303s\n",
      "Pour K=20:  sklearn KNN : 0.0307s\n",
      "Pour K=1: Notre KNN : 0.0197s \n",
      "Pour K=2: Notre KNN : 0.0195s \n",
      "Pour K=3: Notre KNN : 0.0196s \n",
      "Pour K=4: Notre KNN : 0.0197s \n",
      "Pour K=5: Notre KNN : 0.0196s \n",
      "Pour K=6: Notre KNN : 0.0197s \n",
      "Pour K=7: Notre KNN : 0.0197s \n",
      "Pour K=8: Notre KNN : 0.0197s \n",
      "Pour K=9: Notre KNN : 0.0198s \n",
      "Pour K=10: Notre KNN : 0.0201s \n",
      "Pour K=11: Notre KNN : 0.0205s \n",
      "Pour K=12: Notre KNN : 0.0201s \n",
      "Pour K=13: Notre KNN : 0.0200s \n",
      "Pour K=14: Notre KNN : 0.0199s \n",
      "Pour K=15: Notre KNN : 0.0206s \n",
      "Pour K=16: Notre KNN : 0.0200s \n",
      "Pour K=17: Notre KNN : 0.0203s \n",
      "Pour K=18: Notre KNN : 0.0204s \n",
      "Pour K=19: Notre KNN : 0.0202s \n",
      "Pour K=20: Notre KNN : 0.0203s \n"
     ]
    },
    {
     "data": {
      "application/vnd.plotly.v1+json": {
       "config": {
        "plotlyServerURL": "https://plot.ly"
       },
       "data": [
        {
         "name": "Notre KNN",
         "type": "bar",
         "x": [
          1,
          2,
          3,
          4,
          5,
          6,
          7,
          8,
          9,
          10,
          11,
          12,
          13,
          14,
          15,
          16,
          17,
          18,
          19,
          20
         ],
         "y": [
          0.019696707999997898,
          0.01948662500001319,
          0.019627833999976474,
          0.019676041999986182,
          0.01958979200000499,
          0.01972133300000678,
          0.01969179200000326,
          0.019670665999996118,
          0.01982429200000979,
          0.020088291999996954,
          0.020547875000005433,
          0.02008129099999678,
          0.02004800000000273,
          0.019921791000001576,
          0.020639458000005106,
          0.01996854099999723,
          0.020278875000002472,
          0.02044641699998806,
          0.020201249999985293,
          0.020285083000004533
         ]
        },
        {
         "name": "sklearn's KNN",
         "type": "bar",
         "x": [
          1,
          2,
          3,
          4,
          5,
          6,
          7,
          8,
          9,
          10,
          11,
          12,
          13,
          14,
          15,
          16,
          17,
          18,
          19,
          20
         ],
         "y": [
          0.02655858299999636,
          0.026945957999998882,
          0.02752795799997898,
          0.027444083999995428,
          0.027585166999983812,
          0.027789124999998194,
          0.028618832999995902,
          0.02888550000000123,
          0.028380916999992678,
          0.028438875000006192,
          0.028997833999994782,
          0.028875958000014634,
          0.029049708000002283,
          0.03000712499999736,
          0.03152237500000865,
          0.031024999999999636,
          0.03068329199999198,
          0.030713291000012077,
          0.030317499999995334,
          0.03074629200000345,
          0.029138917000011588,
          0.02713666700000772,
          0.027739332999999533,
          0.02767720900001791,
          0.029941041999990148,
          0.02840637500000298,
          0.028178208000014138,
          0.028357083000003058,
          0.030472957999990058,
          0.03053429100000926,
          0.03040325000000621,
          0.029545749999982718,
          0.031000374999990754,
          0.030103791999977147,
          0.030227958000011768,
          0.02971408300001599,
          0.031767791999982364,
          0.03013933299999394,
          0.03080370899999707,
          0.031061541000013904
         ]
        }
       ],
       "layout": {
        "barmode": "group",
        "template": {
         "data": {
          "bar": [
           {
            "error_x": {
             "color": "#2a3f5f"
            },
            "error_y": {
             "color": "#2a3f5f"
            },
            "marker": {
             "line": {
              "color": "#E5ECF6",
              "width": 0.5
             },
             "pattern": {
              "fillmode": "overlay",
              "size": 10,
              "solidity": 0.2
             }
            },
            "type": "bar"
           }
          ],
          "barpolar": [
           {
            "marker": {
             "line": {
              "color": "#E5ECF6",
              "width": 0.5
             },
             "pattern": {
              "fillmode": "overlay",
              "size": 10,
              "solidity": 0.2
             }
            },
            "type": "barpolar"
           }
          ],
          "carpet": [
           {
            "aaxis": {
             "endlinecolor": "#2a3f5f",
             "gridcolor": "white",
             "linecolor": "white",
             "minorgridcolor": "white",
             "startlinecolor": "#2a3f5f"
            },
            "baxis": {
             "endlinecolor": "#2a3f5f",
             "gridcolor": "white",
             "linecolor": "white",
             "minorgridcolor": "white",
             "startlinecolor": "#2a3f5f"
            },
            "type": "carpet"
           }
          ],
          "choropleth": [
           {
            "colorbar": {
             "outlinewidth": 0,
             "ticks": ""
            },
            "type": "choropleth"
           }
          ],
          "contour": [
           {
            "colorbar": {
             "outlinewidth": 0,
             "ticks": ""
            },
            "colorscale": [
             [
              0,
              "#0d0887"
             ],
             [
              0.1111111111111111,
              "#46039f"
             ],
             [
              0.2222222222222222,
              "#7201a8"
             ],
             [
              0.3333333333333333,
              "#9c179e"
             ],
             [
              0.4444444444444444,
              "#bd3786"
             ],
             [
              0.5555555555555556,
              "#d8576b"
             ],
             [
              0.6666666666666666,
              "#ed7953"
             ],
             [
              0.7777777777777778,
              "#fb9f3a"
             ],
             [
              0.8888888888888888,
              "#fdca26"
             ],
             [
              1,
              "#f0f921"
             ]
            ],
            "type": "contour"
           }
          ],
          "contourcarpet": [
           {
            "colorbar": {
             "outlinewidth": 0,
             "ticks": ""
            },
            "type": "contourcarpet"
           }
          ],
          "heatmap": [
           {
            "colorbar": {
             "outlinewidth": 0,
             "ticks": ""
            },
            "colorscale": [
             [
              0,
              "#0d0887"
             ],
             [
              0.1111111111111111,
              "#46039f"
             ],
             [
              0.2222222222222222,
              "#7201a8"
             ],
             [
              0.3333333333333333,
              "#9c179e"
             ],
             [
              0.4444444444444444,
              "#bd3786"
             ],
             [
              0.5555555555555556,
              "#d8576b"
             ],
             [
              0.6666666666666666,
              "#ed7953"
             ],
             [
              0.7777777777777778,
              "#fb9f3a"
             ],
             [
              0.8888888888888888,
              "#fdca26"
             ],
             [
              1,
              "#f0f921"
             ]
            ],
            "type": "heatmap"
           }
          ],
          "heatmapgl": [
           {
            "colorbar": {
             "outlinewidth": 0,
             "ticks": ""
            },
            "colorscale": [
             [
              0,
              "#0d0887"
             ],
             [
              0.1111111111111111,
              "#46039f"
             ],
             [
              0.2222222222222222,
              "#7201a8"
             ],
             [
              0.3333333333333333,
              "#9c179e"
             ],
             [
              0.4444444444444444,
              "#bd3786"
             ],
             [
              0.5555555555555556,
              "#d8576b"
             ],
             [
              0.6666666666666666,
              "#ed7953"
             ],
             [
              0.7777777777777778,
              "#fb9f3a"
             ],
             [
              0.8888888888888888,
              "#fdca26"
             ],
             [
              1,
              "#f0f921"
             ]
            ],
            "type": "heatmapgl"
           }
          ],
          "histogram": [
           {
            "marker": {
             "pattern": {
              "fillmode": "overlay",
              "size": 10,
              "solidity": 0.2
             }
            },
            "type": "histogram"
           }
          ],
          "histogram2d": [
           {
            "colorbar": {
             "outlinewidth": 0,
             "ticks": ""
            },
            "colorscale": [
             [
              0,
              "#0d0887"
             ],
             [
              0.1111111111111111,
              "#46039f"
             ],
             [
              0.2222222222222222,
              "#7201a8"
             ],
             [
              0.3333333333333333,
              "#9c179e"
             ],
             [
              0.4444444444444444,
              "#bd3786"
             ],
             [
              0.5555555555555556,
              "#d8576b"
             ],
             [
              0.6666666666666666,
              "#ed7953"
             ],
             [
              0.7777777777777778,
              "#fb9f3a"
             ],
             [
              0.8888888888888888,
              "#fdca26"
             ],
             [
              1,
              "#f0f921"
             ]
            ],
            "type": "histogram2d"
           }
          ],
          "histogram2dcontour": [
           {
            "colorbar": {
             "outlinewidth": 0,
             "ticks": ""
            },
            "colorscale": [
             [
              0,
              "#0d0887"
             ],
             [
              0.1111111111111111,
              "#46039f"
             ],
             [
              0.2222222222222222,
              "#7201a8"
             ],
             [
              0.3333333333333333,
              "#9c179e"
             ],
             [
              0.4444444444444444,
              "#bd3786"
             ],
             [
              0.5555555555555556,
              "#d8576b"
             ],
             [
              0.6666666666666666,
              "#ed7953"
             ],
             [
              0.7777777777777778,
              "#fb9f3a"
             ],
             [
              0.8888888888888888,
              "#fdca26"
             ],
             [
              1,
              "#f0f921"
             ]
            ],
            "type": "histogram2dcontour"
           }
          ],
          "mesh3d": [
           {
            "colorbar": {
             "outlinewidth": 0,
             "ticks": ""
            },
            "type": "mesh3d"
           }
          ],
          "parcoords": [
           {
            "line": {
             "colorbar": {
              "outlinewidth": 0,
              "ticks": ""
             }
            },
            "type": "parcoords"
           }
          ],
          "pie": [
           {
            "automargin": true,
            "type": "pie"
           }
          ],
          "scatter": [
           {
            "fillpattern": {
             "fillmode": "overlay",
             "size": 10,
             "solidity": 0.2
            },
            "type": "scatter"
           }
          ],
          "scatter3d": [
           {
            "line": {
             "colorbar": {
              "outlinewidth": 0,
              "ticks": ""
             }
            },
            "marker": {
             "colorbar": {
              "outlinewidth": 0,
              "ticks": ""
             }
            },
            "type": "scatter3d"
           }
          ],
          "scattercarpet": [
           {
            "marker": {
             "colorbar": {
              "outlinewidth": 0,
              "ticks": ""
             }
            },
            "type": "scattercarpet"
           }
          ],
          "scattergeo": [
           {
            "marker": {
             "colorbar": {
              "outlinewidth": 0,
              "ticks": ""
             }
            },
            "type": "scattergeo"
           }
          ],
          "scattergl": [
           {
            "marker": {
             "colorbar": {
              "outlinewidth": 0,
              "ticks": ""
             }
            },
            "type": "scattergl"
           }
          ],
          "scattermapbox": [
           {
            "marker": {
             "colorbar": {
              "outlinewidth": 0,
              "ticks": ""
             }
            },
            "type": "scattermapbox"
           }
          ],
          "scatterpolar": [
           {
            "marker": {
             "colorbar": {
              "outlinewidth": 0,
              "ticks": ""
             }
            },
            "type": "scatterpolar"
           }
          ],
          "scatterpolargl": [
           {
            "marker": {
             "colorbar": {
              "outlinewidth": 0,
              "ticks": ""
             }
            },
            "type": "scatterpolargl"
           }
          ],
          "scatterternary": [
           {
            "marker": {
             "colorbar": {
              "outlinewidth": 0,
              "ticks": ""
             }
            },
            "type": "scatterternary"
           }
          ],
          "surface": [
           {
            "colorbar": {
             "outlinewidth": 0,
             "ticks": ""
            },
            "colorscale": [
             [
              0,
              "#0d0887"
             ],
             [
              0.1111111111111111,
              "#46039f"
             ],
             [
              0.2222222222222222,
              "#7201a8"
             ],
             [
              0.3333333333333333,
              "#9c179e"
             ],
             [
              0.4444444444444444,
              "#bd3786"
             ],
             [
              0.5555555555555556,
              "#d8576b"
             ],
             [
              0.6666666666666666,
              "#ed7953"
             ],
             [
              0.7777777777777778,
              "#fb9f3a"
             ],
             [
              0.8888888888888888,
              "#fdca26"
             ],
             [
              1,
              "#f0f921"
             ]
            ],
            "type": "surface"
           }
          ],
          "table": [
           {
            "cells": {
             "fill": {
              "color": "#EBF0F8"
             },
             "line": {
              "color": "white"
             }
            },
            "header": {
             "fill": {
              "color": "#C8D4E3"
             },
             "line": {
              "color": "white"
             }
            },
            "type": "table"
           }
          ]
         },
         "layout": {
          "annotationdefaults": {
           "arrowcolor": "#2a3f5f",
           "arrowhead": 0,
           "arrowwidth": 1
          },
          "autotypenumbers": "strict",
          "coloraxis": {
           "colorbar": {
            "outlinewidth": 0,
            "ticks": ""
           }
          },
          "colorscale": {
           "diverging": [
            [
             0,
             "#8e0152"
            ],
            [
             0.1,
             "#c51b7d"
            ],
            [
             0.2,
             "#de77ae"
            ],
            [
             0.3,
             "#f1b6da"
            ],
            [
             0.4,
             "#fde0ef"
            ],
            [
             0.5,
             "#f7f7f7"
            ],
            [
             0.6,
             "#e6f5d0"
            ],
            [
             0.7,
             "#b8e186"
            ],
            [
             0.8,
             "#7fbc41"
            ],
            [
             0.9,
             "#4d9221"
            ],
            [
             1,
             "#276419"
            ]
           ],
           "sequential": [
            [
             0,
             "#0d0887"
            ],
            [
             0.1111111111111111,
             "#46039f"
            ],
            [
             0.2222222222222222,
             "#7201a8"
            ],
            [
             0.3333333333333333,
             "#9c179e"
            ],
            [
             0.4444444444444444,
             "#bd3786"
            ],
            [
             0.5555555555555556,
             "#d8576b"
            ],
            [
             0.6666666666666666,
             "#ed7953"
            ],
            [
             0.7777777777777778,
             "#fb9f3a"
            ],
            [
             0.8888888888888888,
             "#fdca26"
            ],
            [
             1,
             "#f0f921"
            ]
           ],
           "sequentialminus": [
            [
             0,
             "#0d0887"
            ],
            [
             0.1111111111111111,
             "#46039f"
            ],
            [
             0.2222222222222222,
             "#7201a8"
            ],
            [
             0.3333333333333333,
             "#9c179e"
            ],
            [
             0.4444444444444444,
             "#bd3786"
            ],
            [
             0.5555555555555556,
             "#d8576b"
            ],
            [
             0.6666666666666666,
             "#ed7953"
            ],
            [
             0.7777777777777778,
             "#fb9f3a"
            ],
            [
             0.8888888888888888,
             "#fdca26"
            ],
            [
             1,
             "#f0f921"
            ]
           ]
          },
          "colorway": [
           "#636efa",
           "#EF553B",
           "#00cc96",
           "#ab63fa",
           "#FFA15A",
           "#19d3f3",
           "#FF6692",
           "#B6E880",
           "#FF97FF",
           "#FECB52"
          ],
          "font": {
           "color": "#2a3f5f"
          },
          "geo": {
           "bgcolor": "white",
           "lakecolor": "white",
           "landcolor": "#E5ECF6",
           "showlakes": true,
           "showland": true,
           "subunitcolor": "white"
          },
          "hoverlabel": {
           "align": "left"
          },
          "hovermode": "closest",
          "mapbox": {
           "style": "light"
          },
          "paper_bgcolor": "white",
          "plot_bgcolor": "#E5ECF6",
          "polar": {
           "angularaxis": {
            "gridcolor": "white",
            "linecolor": "white",
            "ticks": ""
           },
           "bgcolor": "#E5ECF6",
           "radialaxis": {
            "gridcolor": "white",
            "linecolor": "white",
            "ticks": ""
           }
          },
          "scene": {
           "xaxis": {
            "backgroundcolor": "#E5ECF6",
            "gridcolor": "white",
            "gridwidth": 2,
            "linecolor": "white",
            "showbackground": true,
            "ticks": "",
            "zerolinecolor": "white"
           },
           "yaxis": {
            "backgroundcolor": "#E5ECF6",
            "gridcolor": "white",
            "gridwidth": 2,
            "linecolor": "white",
            "showbackground": true,
            "ticks": "",
            "zerolinecolor": "white"
           },
           "zaxis": {
            "backgroundcolor": "#E5ECF6",
            "gridcolor": "white",
            "gridwidth": 2,
            "linecolor": "white",
            "showbackground": true,
            "ticks": "",
            "zerolinecolor": "white"
           }
          },
          "shapedefaults": {
           "line": {
            "color": "#2a3f5f"
           }
          },
          "ternary": {
           "aaxis": {
            "gridcolor": "white",
            "linecolor": "white",
            "ticks": ""
           },
           "baxis": {
            "gridcolor": "white",
            "linecolor": "white",
            "ticks": ""
           },
           "bgcolor": "#E5ECF6",
           "caxis": {
            "gridcolor": "white",
            "linecolor": "white",
            "ticks": ""
           }
          },
          "title": {
           "x": 0.05
          },
          "xaxis": {
           "automargin": true,
           "gridcolor": "white",
           "linecolor": "white",
           "ticks": "",
           "title": {
            "standoff": 15
           },
           "zerolinecolor": "white",
           "zerolinewidth": 2
          },
          "yaxis": {
           "automargin": true,
           "gridcolor": "white",
           "linecolor": "white",
           "ticks": "",
           "title": {
            "standoff": 15
           },
           "zerolinecolor": "white",
           "zerolinewidth": 2
          }
         }
        },
        "title": {
         "text": "Comparaison des temps d'exécution de KNN"
        },
        "xaxis": {
         "title": {
          "text": "Valeur de K"
         }
        },
        "yaxis": {
         "title": {
          "text": "Temps d'exécution (s)"
         }
        }
       }
      }
     },
     "metadata": {},
     "output_type": "display_data"
    }
   ],
   "source": [
    "\n",
    "from sklearn.neighbors import KNeighborsClassifier\n",
    "import timeit\n",
    "import plotly.graph_objects as go\n",
    "\n",
    "def sklearn_knn(x_train, class_train, x_test, K):\n",
    "    knn = KNeighborsClassifier(n_neighbors=K)\n",
    "    knn.fit(x_train, class_train)\n",
    "    return knn.predict(x_test)\n",
    "\n",
    "def knn_maison(x_train, class_train, x_test, K):\n",
    "    return knn_classification(x_train, class_train, x_test, n_neighbours=K)\n",
    "\n",
    "# Lists to stock run times\n",
    "our_times = []\n",
    "sklearn_times = []\n",
    "\n",
    "# Compare results and runtime\n",
    "for K in range(1, 21):\n",
    "    #our_pred = knn_maison(x_train, class_train, x_test, K)\n",
    "    sklearn_pred = sklearn_knn(x_train, class_train, x_test, K)\n",
    "        \n",
    "    #our_time = timeit.timeit(lambda: knn_maison(x_train, class_train, x_test, K), number=10)\n",
    "    sklearn_time = timeit.timeit(lambda: sklearn_knn(x_train, class_train, x_test, K), number=10)\n",
    "    \n",
    "   # our_times.append(our_time)\n",
    "    sklearn_times.append(sklearn_time)\n",
    "\n",
    "    print(f\"Pour K={K}:  sklearn KNN : {sklearn_time:.4f}s\")\n",
    "\n",
    "for K in range(1, 21):\n",
    "    our_pred = knn_maison(x_train, class_train, x_test, K)\n",
    "    sklearn_pred = sklearn_knn(x_train, class_train, x_test, K)\n",
    "        \n",
    "    our_time = timeit.timeit(lambda: knn_maison(x_train, class_train, x_test, K), number=10)\n",
    "    sklearn_time = timeit.timeit(lambda: sklearn_knn(x_train, class_train, x_test, K), number=10)\n",
    "    \n",
    "    our_times.append(our_time)\n",
    "    sklearn_times.append(sklearn_time)\n",
    "\n",
    "    print(f\"Pour K={K}: Notre KNN : {our_time:.4f}s \")\n",
    "\n",
    "\n",
    "K_values = list(range(1, 21))\n",
    "\n",
    "# Affichage\n",
    "fig = go.Figure(data=[\n",
    "    go.Bar(name='Notre KNN', x=K_values, y=our_times),\n",
    "    go.Bar(name=\"sklearn's KNN\", x=K_values, y=sklearn_times)\n",
    "])\n",
    "fig.update_layout(barmode='group', title_text='Comparaison des temps d\\'exécution de KNN',\n",
    "                  xaxis_title='Valeur de K', yaxis_title='Temps d\\'exécution (s)')\n",
    "fig.show();"
   ]
  },
  {
   "cell_type": "code",
   "execution_count": 6,
   "metadata": {},
   "outputs": [
    {
     "data": {
      "application/vnd.plotly.v1+json": {
       "config": {
        "plotlyServerURL": "https://plot.ly"
       },
       "data": [
        {
         "mode": "lines+markers",
         "name": "Notre KNN",
         "type": "scatter",
         "x": [
          1,
          2,
          3,
          4,
          5,
          6,
          7,
          8,
          9,
          10,
          11,
          12,
          13,
          14,
          15,
          16,
          17,
          18,
          19,
          20
         ],
         "y": [
          0.019696707999997898,
          0.01948662500001319,
          0.019627833999976474,
          0.019676041999986182,
          0.01958979200000499,
          0.01972133300000678,
          0.01969179200000326,
          0.019670665999996118,
          0.01982429200000979,
          0.020088291999996954,
          0.020547875000005433,
          0.02008129099999678,
          0.02004800000000273,
          0.019921791000001576,
          0.020639458000005106,
          0.01996854099999723,
          0.020278875000002472,
          0.02044641699998806,
          0.020201249999985293,
          0.020285083000004533
         ]
        },
        {
         "mode": "lines+markers",
         "name": "sklearn's KNN",
         "type": "scatter",
         "x": [
          1,
          2,
          3,
          4,
          5,
          6,
          7,
          8,
          9,
          10,
          11,
          12,
          13,
          14,
          15,
          16,
          17,
          18,
          19,
          20
         ],
         "y": [
          0.02655858299999636,
          0.026945957999998882,
          0.02752795799997898,
          0.027444083999995428,
          0.027585166999983812,
          0.027789124999998194,
          0.028618832999995902,
          0.02888550000000123,
          0.028380916999992678,
          0.028438875000006192,
          0.028997833999994782,
          0.028875958000014634,
          0.029049708000002283,
          0.03000712499999736,
          0.03152237500000865,
          0.031024999999999636,
          0.03068329199999198,
          0.030713291000012077,
          0.030317499999995334,
          0.03074629200000345,
          0.029138917000011588,
          0.02713666700000772,
          0.027739332999999533,
          0.02767720900001791,
          0.029941041999990148,
          0.02840637500000298,
          0.028178208000014138,
          0.028357083000003058,
          0.030472957999990058,
          0.03053429100000926,
          0.03040325000000621,
          0.029545749999982718,
          0.031000374999990754,
          0.030103791999977147,
          0.030227958000011768,
          0.02971408300001599,
          0.031767791999982364,
          0.03013933299999394,
          0.03080370899999707,
          0.031061541000013904
         ]
        }
       ],
       "layout": {
        "barmode": "group",
        "template": {
         "data": {
          "bar": [
           {
            "error_x": {
             "color": "#2a3f5f"
            },
            "error_y": {
             "color": "#2a3f5f"
            },
            "marker": {
             "line": {
              "color": "#E5ECF6",
              "width": 0.5
             },
             "pattern": {
              "fillmode": "overlay",
              "size": 10,
              "solidity": 0.2
             }
            },
            "type": "bar"
           }
          ],
          "barpolar": [
           {
            "marker": {
             "line": {
              "color": "#E5ECF6",
              "width": 0.5
             },
             "pattern": {
              "fillmode": "overlay",
              "size": 10,
              "solidity": 0.2
             }
            },
            "type": "barpolar"
           }
          ],
          "carpet": [
           {
            "aaxis": {
             "endlinecolor": "#2a3f5f",
             "gridcolor": "white",
             "linecolor": "white",
             "minorgridcolor": "white",
             "startlinecolor": "#2a3f5f"
            },
            "baxis": {
             "endlinecolor": "#2a3f5f",
             "gridcolor": "white",
             "linecolor": "white",
             "minorgridcolor": "white",
             "startlinecolor": "#2a3f5f"
            },
            "type": "carpet"
           }
          ],
          "choropleth": [
           {
            "colorbar": {
             "outlinewidth": 0,
             "ticks": ""
            },
            "type": "choropleth"
           }
          ],
          "contour": [
           {
            "colorbar": {
             "outlinewidth": 0,
             "ticks": ""
            },
            "colorscale": [
             [
              0,
              "#0d0887"
             ],
             [
              0.1111111111111111,
              "#46039f"
             ],
             [
              0.2222222222222222,
              "#7201a8"
             ],
             [
              0.3333333333333333,
              "#9c179e"
             ],
             [
              0.4444444444444444,
              "#bd3786"
             ],
             [
              0.5555555555555556,
              "#d8576b"
             ],
             [
              0.6666666666666666,
              "#ed7953"
             ],
             [
              0.7777777777777778,
              "#fb9f3a"
             ],
             [
              0.8888888888888888,
              "#fdca26"
             ],
             [
              1,
              "#f0f921"
             ]
            ],
            "type": "contour"
           }
          ],
          "contourcarpet": [
           {
            "colorbar": {
             "outlinewidth": 0,
             "ticks": ""
            },
            "type": "contourcarpet"
           }
          ],
          "heatmap": [
           {
            "colorbar": {
             "outlinewidth": 0,
             "ticks": ""
            },
            "colorscale": [
             [
              0,
              "#0d0887"
             ],
             [
              0.1111111111111111,
              "#46039f"
             ],
             [
              0.2222222222222222,
              "#7201a8"
             ],
             [
              0.3333333333333333,
              "#9c179e"
             ],
             [
              0.4444444444444444,
              "#bd3786"
             ],
             [
              0.5555555555555556,
              "#d8576b"
             ],
             [
              0.6666666666666666,
              "#ed7953"
             ],
             [
              0.7777777777777778,
              "#fb9f3a"
             ],
             [
              0.8888888888888888,
              "#fdca26"
             ],
             [
              1,
              "#f0f921"
             ]
            ],
            "type": "heatmap"
           }
          ],
          "heatmapgl": [
           {
            "colorbar": {
             "outlinewidth": 0,
             "ticks": ""
            },
            "colorscale": [
             [
              0,
              "#0d0887"
             ],
             [
              0.1111111111111111,
              "#46039f"
             ],
             [
              0.2222222222222222,
              "#7201a8"
             ],
             [
              0.3333333333333333,
              "#9c179e"
             ],
             [
              0.4444444444444444,
              "#bd3786"
             ],
             [
              0.5555555555555556,
              "#d8576b"
             ],
             [
              0.6666666666666666,
              "#ed7953"
             ],
             [
              0.7777777777777778,
              "#fb9f3a"
             ],
             [
              0.8888888888888888,
              "#fdca26"
             ],
             [
              1,
              "#f0f921"
             ]
            ],
            "type": "heatmapgl"
           }
          ],
          "histogram": [
           {
            "marker": {
             "pattern": {
              "fillmode": "overlay",
              "size": 10,
              "solidity": 0.2
             }
            },
            "type": "histogram"
           }
          ],
          "histogram2d": [
           {
            "colorbar": {
             "outlinewidth": 0,
             "ticks": ""
            },
            "colorscale": [
             [
              0,
              "#0d0887"
             ],
             [
              0.1111111111111111,
              "#46039f"
             ],
             [
              0.2222222222222222,
              "#7201a8"
             ],
             [
              0.3333333333333333,
              "#9c179e"
             ],
             [
              0.4444444444444444,
              "#bd3786"
             ],
             [
              0.5555555555555556,
              "#d8576b"
             ],
             [
              0.6666666666666666,
              "#ed7953"
             ],
             [
              0.7777777777777778,
              "#fb9f3a"
             ],
             [
              0.8888888888888888,
              "#fdca26"
             ],
             [
              1,
              "#f0f921"
             ]
            ],
            "type": "histogram2d"
           }
          ],
          "histogram2dcontour": [
           {
            "colorbar": {
             "outlinewidth": 0,
             "ticks": ""
            },
            "colorscale": [
             [
              0,
              "#0d0887"
             ],
             [
              0.1111111111111111,
              "#46039f"
             ],
             [
              0.2222222222222222,
              "#7201a8"
             ],
             [
              0.3333333333333333,
              "#9c179e"
             ],
             [
              0.4444444444444444,
              "#bd3786"
             ],
             [
              0.5555555555555556,
              "#d8576b"
             ],
             [
              0.6666666666666666,
              "#ed7953"
             ],
             [
              0.7777777777777778,
              "#fb9f3a"
             ],
             [
              0.8888888888888888,
              "#fdca26"
             ],
             [
              1,
              "#f0f921"
             ]
            ],
            "type": "histogram2dcontour"
           }
          ],
          "mesh3d": [
           {
            "colorbar": {
             "outlinewidth": 0,
             "ticks": ""
            },
            "type": "mesh3d"
           }
          ],
          "parcoords": [
           {
            "line": {
             "colorbar": {
              "outlinewidth": 0,
              "ticks": ""
             }
            },
            "type": "parcoords"
           }
          ],
          "pie": [
           {
            "automargin": true,
            "type": "pie"
           }
          ],
          "scatter": [
           {
            "fillpattern": {
             "fillmode": "overlay",
             "size": 10,
             "solidity": 0.2
            },
            "type": "scatter"
           }
          ],
          "scatter3d": [
           {
            "line": {
             "colorbar": {
              "outlinewidth": 0,
              "ticks": ""
             }
            },
            "marker": {
             "colorbar": {
              "outlinewidth": 0,
              "ticks": ""
             }
            },
            "type": "scatter3d"
           }
          ],
          "scattercarpet": [
           {
            "marker": {
             "colorbar": {
              "outlinewidth": 0,
              "ticks": ""
             }
            },
            "type": "scattercarpet"
           }
          ],
          "scattergeo": [
           {
            "marker": {
             "colorbar": {
              "outlinewidth": 0,
              "ticks": ""
             }
            },
            "type": "scattergeo"
           }
          ],
          "scattergl": [
           {
            "marker": {
             "colorbar": {
              "outlinewidth": 0,
              "ticks": ""
             }
            },
            "type": "scattergl"
           }
          ],
          "scattermapbox": [
           {
            "marker": {
             "colorbar": {
              "outlinewidth": 0,
              "ticks": ""
             }
            },
            "type": "scattermapbox"
           }
          ],
          "scatterpolar": [
           {
            "marker": {
             "colorbar": {
              "outlinewidth": 0,
              "ticks": ""
             }
            },
            "type": "scatterpolar"
           }
          ],
          "scatterpolargl": [
           {
            "marker": {
             "colorbar": {
              "outlinewidth": 0,
              "ticks": ""
             }
            },
            "type": "scatterpolargl"
           }
          ],
          "scatterternary": [
           {
            "marker": {
             "colorbar": {
              "outlinewidth": 0,
              "ticks": ""
             }
            },
            "type": "scatterternary"
           }
          ],
          "surface": [
           {
            "colorbar": {
             "outlinewidth": 0,
             "ticks": ""
            },
            "colorscale": [
             [
              0,
              "#0d0887"
             ],
             [
              0.1111111111111111,
              "#46039f"
             ],
             [
              0.2222222222222222,
              "#7201a8"
             ],
             [
              0.3333333333333333,
              "#9c179e"
             ],
             [
              0.4444444444444444,
              "#bd3786"
             ],
             [
              0.5555555555555556,
              "#d8576b"
             ],
             [
              0.6666666666666666,
              "#ed7953"
             ],
             [
              0.7777777777777778,
              "#fb9f3a"
             ],
             [
              0.8888888888888888,
              "#fdca26"
             ],
             [
              1,
              "#f0f921"
             ]
            ],
            "type": "surface"
           }
          ],
          "table": [
           {
            "cells": {
             "fill": {
              "color": "#EBF0F8"
             },
             "line": {
              "color": "white"
             }
            },
            "header": {
             "fill": {
              "color": "#C8D4E3"
             },
             "line": {
              "color": "white"
             }
            },
            "type": "table"
           }
          ]
         },
         "layout": {
          "annotationdefaults": {
           "arrowcolor": "#2a3f5f",
           "arrowhead": 0,
           "arrowwidth": 1
          },
          "autotypenumbers": "strict",
          "coloraxis": {
           "colorbar": {
            "outlinewidth": 0,
            "ticks": ""
           }
          },
          "colorscale": {
           "diverging": [
            [
             0,
             "#8e0152"
            ],
            [
             0.1,
             "#c51b7d"
            ],
            [
             0.2,
             "#de77ae"
            ],
            [
             0.3,
             "#f1b6da"
            ],
            [
             0.4,
             "#fde0ef"
            ],
            [
             0.5,
             "#f7f7f7"
            ],
            [
             0.6,
             "#e6f5d0"
            ],
            [
             0.7,
             "#b8e186"
            ],
            [
             0.8,
             "#7fbc41"
            ],
            [
             0.9,
             "#4d9221"
            ],
            [
             1,
             "#276419"
            ]
           ],
           "sequential": [
            [
             0,
             "#0d0887"
            ],
            [
             0.1111111111111111,
             "#46039f"
            ],
            [
             0.2222222222222222,
             "#7201a8"
            ],
            [
             0.3333333333333333,
             "#9c179e"
            ],
            [
             0.4444444444444444,
             "#bd3786"
            ],
            [
             0.5555555555555556,
             "#d8576b"
            ],
            [
             0.6666666666666666,
             "#ed7953"
            ],
            [
             0.7777777777777778,
             "#fb9f3a"
            ],
            [
             0.8888888888888888,
             "#fdca26"
            ],
            [
             1,
             "#f0f921"
            ]
           ],
           "sequentialminus": [
            [
             0,
             "#0d0887"
            ],
            [
             0.1111111111111111,
             "#46039f"
            ],
            [
             0.2222222222222222,
             "#7201a8"
            ],
            [
             0.3333333333333333,
             "#9c179e"
            ],
            [
             0.4444444444444444,
             "#bd3786"
            ],
            [
             0.5555555555555556,
             "#d8576b"
            ],
            [
             0.6666666666666666,
             "#ed7953"
            ],
            [
             0.7777777777777778,
             "#fb9f3a"
            ],
            [
             0.8888888888888888,
             "#fdca26"
            ],
            [
             1,
             "#f0f921"
            ]
           ]
          },
          "colorway": [
           "#636efa",
           "#EF553B",
           "#00cc96",
           "#ab63fa",
           "#FFA15A",
           "#19d3f3",
           "#FF6692",
           "#B6E880",
           "#FF97FF",
           "#FECB52"
          ],
          "font": {
           "color": "#2a3f5f"
          },
          "geo": {
           "bgcolor": "white",
           "lakecolor": "white",
           "landcolor": "#E5ECF6",
           "showlakes": true,
           "showland": true,
           "subunitcolor": "white"
          },
          "hoverlabel": {
           "align": "left"
          },
          "hovermode": "closest",
          "mapbox": {
           "style": "light"
          },
          "paper_bgcolor": "white",
          "plot_bgcolor": "#E5ECF6",
          "polar": {
           "angularaxis": {
            "gridcolor": "white",
            "linecolor": "white",
            "ticks": ""
           },
           "bgcolor": "#E5ECF6",
           "radialaxis": {
            "gridcolor": "white",
            "linecolor": "white",
            "ticks": ""
           }
          },
          "scene": {
           "xaxis": {
            "backgroundcolor": "#E5ECF6",
            "gridcolor": "white",
            "gridwidth": 2,
            "linecolor": "white",
            "showbackground": true,
            "ticks": "",
            "zerolinecolor": "white"
           },
           "yaxis": {
            "backgroundcolor": "#E5ECF6",
            "gridcolor": "white",
            "gridwidth": 2,
            "linecolor": "white",
            "showbackground": true,
            "ticks": "",
            "zerolinecolor": "white"
           },
           "zaxis": {
            "backgroundcolor": "#E5ECF6",
            "gridcolor": "white",
            "gridwidth": 2,
            "linecolor": "white",
            "showbackground": true,
            "ticks": "",
            "zerolinecolor": "white"
           }
          },
          "shapedefaults": {
           "line": {
            "color": "#2a3f5f"
           }
          },
          "ternary": {
           "aaxis": {
            "gridcolor": "white",
            "linecolor": "white",
            "ticks": ""
           },
           "baxis": {
            "gridcolor": "white",
            "linecolor": "white",
            "ticks": ""
           },
           "bgcolor": "#E5ECF6",
           "caxis": {
            "gridcolor": "white",
            "linecolor": "white",
            "ticks": ""
           }
          },
          "title": {
           "x": 0.05
          },
          "xaxis": {
           "automargin": true,
           "gridcolor": "white",
           "linecolor": "white",
           "ticks": "",
           "title": {
            "standoff": 15
           },
           "zerolinecolor": "white",
           "zerolinewidth": 2
          },
          "yaxis": {
           "automargin": true,
           "gridcolor": "white",
           "linecolor": "white",
           "ticks": "",
           "title": {
            "standoff": 15
           },
           "zerolinecolor": "white",
           "zerolinewidth": 2
          }
         }
        },
        "title": {
         "text": "Comparaison des temps d'exécution de KNN"
        },
        "xaxis": {
         "title": {
          "text": "Valeur de K"
         }
        },
        "yaxis": {
         "title": {
          "text": "Temps d'exécution (s)"
         }
        }
       }
      }
     },
     "metadata": {},
     "output_type": "display_data"
    }
   ],
   "source": [
    "# Graphique version lineplot\n",
    "fig = go.Figure()\n",
    "fig.add_trace(go.Scatter(name='Notre KNN', x=K_values, y=our_times, mode='lines+markers'))\n",
    "fig.add_trace(go.Scatter(name=\"sklearn's KNN\", x=K_values, y=sklearn_times, mode='lines+markers'))\n",
    "fig.update_layout(barmode='group', title_text='Comparaison des temps d\\'exécution de KNN',\n",
    "                  xaxis_title='Valeur de K', yaxis_title='Temps d\\'exécution (s)')\n",
    "fig.show();"
   ]
  },
  {
   "cell_type": "markdown",
   "metadata": {},
   "source": [
    "### B. Application to a real dataset (Breast cancer Wisconsin).\n",
    "\n",
    "6\\. Apply the K-NN classifier to the real dataset `data/wdbc12.data.txt.` Further details about the data are provided in `data/wdbc12.names.txt`.\n",
    "\n",
    "> Hint: you can use the function [`train_test_split` from `sklearn.model_selection`](https://scikit-learn.org/stable/modules/generated/sklearn.model_selection.train_test_split.html) to split the dataset into a training and a test set."
   ]
  },
  {
   "cell_type": "markdown",
   "metadata": {},
   "source": [
    "**Answer:**"
   ]
  },
  {
   "cell_type": "code",
   "execution_count": 7,
   "metadata": {},
   "outputs": [
    {
     "name": "stdout",
     "output_type": "stream",
     "text": [
      "[[49  5]\n",
      " [ 5 84]]\n",
      "error rate is 6.99 %\n"
     ]
    }
   ],
   "source": [
    "from sklearn.model_selection import train_test_split\n",
    "from sklearn.metrics import confusion_matrix \n",
    "\n",
    "df = np.loadtxt('data/wdbc12.data.txt',delimiter=',')\n",
    "y = df[:,1].astype(int)\n",
    "x = df[:,2:]\n",
    "x_train, x_test, y_train, y_test = train_test_split(x, y, test_size=0.25, random_state=42)\n",
    "\n",
    "def testWithTrainOnTest(x_train,x_test,y_train,K=3):\n",
    "    y_pred=np.empty(x_test.shape[0],dtype=y_train.dtype)\n",
    "    for row,x in enumerate(x_test):\n",
    "        distances=np.linalg.norm(x_train-x[np.newaxis,:],axis=1)\n",
    "        index=bottleneck.argpartition(distances,K)[:K]\n",
    "        y_pred[row]=np.bincount(y_train[index]).argmax()\n",
    "    return y_pred\n",
    "\n",
    "target_prediction_test=testWithTrainOnTest(x_train,x_test,y_train,K=3)\n",
    "\n",
    "def computeError(target_prediction,y):\n",
    "    cm=confusion_matrix(target_prediction,y)\n",
    "    return cm\n",
    "\n",
    "error=computeError(target_prediction_test,y_test)\n",
    "print(error)\n",
    "error_rate=(error[0,1]+error[1,0])/error.sum()\n",
    "print('error rate is' ,round(100*error_rate,2),'%')"
   ]
  },
  {
   "cell_type": "markdown",
   "metadata": {},
   "source": [
    "## <a name=\"ex2\">Exercise 2: Code acceleration with cython</a> [(&#8593;)](#content)\n",
    "\n",
    "Cython allows C code to be easily interfaced with Python. It can be useful to make your code faster for a small coding effort, in particular when using loops. A general approach to optimize your code is outlined in the [Scipy lecture notes, Section 2.4](https://scipy-lectures.org/advanced/optimizing/index.html). Complementary reading about interfacing Python with C can be found in [Section 2.8](https://scipy-lectures.org/advanced/interfacing_with_c/interfacing_with_c.html).\n",
    "\n",
    "1\\. Read carefully the [cython tutorial](http://docs.cython.org/en/latest/src/tutorial/cython_tutorial.html), which describes step by the step how the toy example reported below has been developed."
   ]
  },
  {
   "cell_type": "markdown",
   "metadata": {},
   "source": [
    "**Setup**: Compile the toy example provided in `example_cy/` by running, in the command line (anaconda prompt on windows)"
   ]
  },
  {
   "cell_type": "markdown",
   "metadata": {},
   "source": [
    "```bash\n",
    "cd example_cy && python setup.py build_ext --inplace\n",
    "```"
   ]
  },
  {
   "cell_type": "markdown",
   "metadata": {},
   "source": [
    "Note that the compilation process has been slightly automatised with the instructions reported in `example_cy/setup.py`. To test the module, run"
   ]
  },
  {
   "cell_type": "code",
   "execution_count": 26,
   "metadata": {},
   "outputs": [
    {
     "name": "stdout",
     "output_type": "stream",
     "text": [
      "running build_ext\n",
      "copying build/lib.macosx-11.1-arm64-cpython-39/example_cy/helloworld.cpython-39-darwin.so -> example_cy\n",
      "copying build/lib.macosx-11.1-arm64-cpython-39/example_cy/primes.cpython-39-darwin.so -> example_cy\n"
     ]
    }
   ],
   "source": [
    "!cd example_cy && python setup.py build_ext --inplace"
   ]
  },
  {
   "cell_type": "code",
   "execution_count": 27,
   "metadata": {},
   "outputs": [
    {
     "name": "stdout",
     "output_type": "stream",
     "text": [
      "Hello World\n"
     ]
    }
   ],
   "source": [
    "import example_cy.example_cy.helloworld as toy\n",
    "\n",
    "toy.printhello()"
   ]
  },
  {
   "cell_type": "markdown",
   "metadata": {},
   "source": [
    "which should display\n",
    "```python\n",
    "Hello World\n",
    "```"
   ]
  },
  {
   "cell_type": "markdown",
   "metadata": {},
   "source": [
    "> Warning: \n",
    "> - do not forget to include an empty `__init__.py` file in the directory where your source code lives (`import` will fail if this is not the case).\n",
    "> - in case you have any setup issue, take a look at the `notes.md` file.\n",
    "> - if the C code and/or the executable do not seem to be regenerated by the build instructions, delete the C code and the executable first, and re-execute the compilation afterwards.\n",
    "> - do not hesitate to restart the Python kernel if necessary when the Cython executable has been re-generated."
   ]
  },
  {
   "cell_type": "markdown",
   "metadata": {},
   "source": [
    "2\\. Read the [Numpy/Cython tutorial](https://cython.readthedocs.io/en/latest/src/userguide/numpy_tutorial.html#numpy-tutorial), focussing on the paragraphs **Cython at a glance**, and **Your Cython environment** until **\"More generic code\"**. An example to compile a `.pyx` file depending on `numpy` is included in `example_np_cy/`."
   ]
  },
  {
   "cell_type": "markdown",
   "metadata": {},
   "source": [
    "> Remarks: \n",
    "> - the `annotate=True` flag in the `setup.py` allows an additional `.html` document to be generated (`<your_module_name>.html`), showing, for each line of the Cython code, the associated C instructions generated. Highlighted in yellow are the interactions with Python: the darker a region appears, the less efficient the generated C code is for this section. Work in priority on these! \n",
    "> - make sure all the previously generated files are deleted to allow the .html report to be generated;\n",
    "> - if you are working on your own machine and don't have a C/C++ compiler installed, read the notes provided in `notes.md`;\n",
    "> - use `cdef` for pure C functions (not exported to Python), `cpdef` should be favored for functions containing C instructions and later called from Python."
   ]
  },
  {
   "cell_type": "markdown",
   "metadata": {},
   "source": [
    "**Answer:**"
   ]
  },
  {
   "cell_type": "code",
   "execution_count": null,
   "metadata": {},
   "outputs": [],
   "source": [
    "# your code"
   ]
  },
  {
   "cell_type": "markdown",
   "metadata": {},
   "source": [
    "3\\. Use Cython to implement a faster version of the numpy K-NN classifier implemented in [Exercise 1](#ex1). To do so, apply step-by-step the techniques introduced in the [Numpy/Cython tutorial](https://cython.readthedocs.io/en/latest/src/userguide/numpy_tutorial.html#numpy-tutorial) (*i.e.*, compile and time your code after each step to report the evolution, keeping track of the different versions of the cython function).\n",
    "\n",
    "> Hint: if you keep numpy arrays, make sure you use memory views (see numpy/cython tutorial) to access the elements within it. Be extremely careful with the type of the input arrays (you may need to recast the format of the input elements before entering the function. The `numpy.asarray` function can prove useful).\n",
    "\n",
    "> **Detailed guidelines**: a few notes and *caveat* to help you re-writing your code in cython:\n",
    "> - try to reduce the number of calls to numpy instructions as much as possible;\n",
    "> - **you do not have to optimize everything**. For the KNN function above, most of the time is spent in computing euclidean distances: you can thus focus on optimizing tihs operations by explicitly writing a for loop, which will ensure a minimal interaction with numpy when generating the associated C code at compilation. Calls to other numpy functions can be kept as-is;\n",
    "> - if you need to create an array within the cython function, used np.zeros (**do NOT use python lists**), and use a memory view to access its content;\n",
    "> - specify the type for all variables and numpy arrays. Pay attention to the type of the input arrays passed to the Cython function;\n",
    "> - whenever an array is returned, use memory views and index(es) to efficiently access its content;\n",
    "> - some numpy operators (e.g., broadcasting mechanism) do not work with memory views. In this case, you can directly write for loop(s) to encode the operation of interest (the loops will be optimized out at compile time);\n",
    "> - only use at the final development stage the following cython optimization (not before, as they can crash the program without any help):\n",
    ">\n",
    ">```python\n",
    ">@cython.boundscheck(False)\n",
    ">@cython.wraparound(False)\n",
    ">```"
   ]
  },
  {
   "cell_type": "markdown",
   "metadata": {},
   "source": [
    "**Answer:**"
   ]
  },
  {
   "cell_type": "code",
   "execution_count": null,
   "metadata": {},
   "outputs": [],
   "source": []
  },
  {
   "cell_type": "markdown",
   "metadata": {},
   "source": [
    "4\\. Compare the runtime of the two algorithms (using `timeit.timeit`), and conclude about the interest of using cython in this case."
   ]
  },
  {
   "cell_type": "markdown",
   "metadata": {},
   "source": [
    "**Answer:**"
   ]
  },
  {
   "cell_type": "code",
   "execution_count": null,
   "metadata": {},
   "outputs": [],
   "source": [
    "# your code"
   ]
  },
  {
   "cell_type": "markdown",
   "metadata": {},
   "source": [
    "## <a name=\"ex3\">Exercise 3: Code acceleration with numba</a> [(&#8593;)](#content)\n",
    "\n",
    "`numba` is a just-in-time (JIT) compiler which translates Python codes into efficient machine code at runtime. A significant acceleration can be obtained by adding a few simple decorators to a standard Python function, up to a few restrictions detailed [here](http://numba.pydata.org/numba-doc/latest/user/performance-tips.html).\n",
    "\n",
    "If you have written most of the KNN classifier of exercise 1 with numpy, there is little to no chance that you will get an acceleration with numba (justifying the use of cython in this case). An interesting acceleration factor can however be obtained for the computation of the total variation investigated in session 2."
   ]
  },
  {
   "cell_type": "markdown",
   "metadata": {},
   "source": [
    "1\\. Take a look at the [numba 5 min tour](http://numba.pydata.org/numba-doc/latest/user/5minguide.html), and accelerate the total variation code from session 2 with the `@jit` decorator. You may have to rewrite small portions of your code to get the expected acceleration (see [performance tips](http://numba.pydata.org/numba-doc/latest/user/performance-tips.html))."
   ]
  },
  {
   "cell_type": "markdown",
   "metadata": {},
   "source": [
    "**Answer:**"
   ]
  },
  {
   "cell_type": "code",
   "execution_count": 14,
   "metadata": {},
   "outputs": [
    {
     "name": "stderr",
     "output_type": "stream",
     "text": [
      "<ipython-input-14-027e397254b5>:36: NumbaDeprecationWarning:\n",
      "\n",
      "The 'nopython' keyword argument was not supplied to the 'numba.jit' decorator. The implicit default value for this argument is currently False, but it will be changed to True in Numba 0.59.0. See https://numba.readthedocs.io/en/stable/reference/deprecation.html#deprecation-of-object-mode-fall-back-behaviour-when-using-jit for details.\n",
      "\n",
      "<ipython-input-14-027e397254b5>:71: NumbaDeprecationWarning:\n",
      "\n",
      "The 'nopython' keyword argument was not supplied to the 'numba.jit' decorator. The implicit default value for this argument is currently False, but it will be changed to True in Numba 0.59.0. See https://numba.readthedocs.io/en/stable/reference/deprecation.html#deprecation-of-object-mode-fall-back-behaviour-when-using-jit for details.\n",
      "\n",
      "<ipython-input-14-027e397254b5>:80: NumbaDeprecationWarning:\n",
      "\n",
      "\n",
      "Fall-back from the nopython compilation path to the object mode compilation path has been detected. This is deprecated behaviour that will be removed in Numba 0.59.0.\n",
      "\n",
      "For more information visit https://numba.readthedocs.io/en/stable/reference/deprecation.html#deprecation-of-object-mode-fall-back-behaviour-when-using-jit\n",
      "\n",
      "File \"<ipython-input-14-027e397254b5>\", line 36:\n",
      "@jit\n",
      "def gradient2D_numba(X):\n",
      "^\n",
      "\n",
      "\n",
      "<ipython-input-14-027e397254b5>:80: NumbaWarning:\n",
      "\n",
      "\n",
      "Compilation is falling back to object mode WITH looplifting enabled because Function \"gradient2D_numba\" failed type inference due to: No implementation of function Function(<function diff at 0x118469160>) found for signature:\n",
      " \n",
      " >>> diff(array(float64, 2d, C), axis=Literal[int](1))\n",
      " \n",
      "There are 2 candidate implementations:\n",
      "      - Of which 2 did not match due to:\n",
      "      Overload in function 'np_diff_impl': File: numba/np/arraymath.py: Line 3525.\n",
      "        With argument(s): '(array(float64, 2d, C), axis=int64)':\n",
      "       Rejected as the implementation raised a specific error:\n",
      "         TypingError: got an unexpected keyword argument 'axis'\n",
      "  raised from /Users/yanivbenichou/miniforge3/envs/mlp/lib/python3.9/site-packages/numba/core/typing/templates.py:784\n",
      "\n",
      "During: resolving callee type: Function(<function diff at 0x118469160>)\n",
      "During: typing of call at <ipython-input-14-027e397254b5> (40)\n",
      "\n",
      "\n",
      "File \"<ipython-input-14-027e397254b5>\", line 40:\n",
      "def gradient2D_numba(X):\n",
      "    <source elided>\n",
      "    # Compute the differences along the two dimensions\n",
      "    xdh = np.diff(X, axis=1)\n",
      "    ^\n",
      "\n",
      "\n",
      "<ipython-input-14-027e397254b5>:80: NumbaWarning:\n",
      "\n",
      "Function \"gradient2D_numba\" was compiled in object mode without forceobj=True.\n",
      "\n",
      "File \"<ipython-input-14-027e397254b5>\", line 36:\n",
      "@jit\n",
      "def gradient2D_numba(X):\n",
      "^\n",
      "\n",
      "\n",
      "<ipython-input-14-027e397254b5>:70: NumbaWarning:\n",
      "\n",
      "\n",
      "Compilation is falling back to object mode WITH looplifting enabled because Function \"tv_numba\" failed type inference due to: Invalid use of type(CPUDispatcher(<function gradient2D_numba at 0x286f8f040>)) with parameters (array(float64, 2d, C))\n",
      "\n",
      "During: resolving callee type: type(CPUDispatcher(<function gradient2D_numba at 0x286f8f040>))\n",
      "During: typing of call at <ipython-input-14-027e397254b5> (80)\n",
      "\n",
      "\n",
      "File \"<ipython-input-14-027e397254b5>\", line 80:\n",
      "def tv_numba(X:np.array)->float:\n",
      "    <source elided>\n",
      "    \"\"\"\n",
      "    XDh, DvX = gradient2D_numba(X)\n",
      "    ^\n",
      "\n",
      "\n",
      "<ipython-input-14-027e397254b5>:70: NumbaWarning:\n",
      "\n",
      "\n",
      "Compilation is falling back to object mode WITHOUT looplifting enabled because Function \"tv_numba\" failed type inference due to: Cannot determine Numba type of <class 'numba.core.dispatcher.LiftedLoop'>\n",
      "\n",
      "File \"<ipython-input-14-027e397254b5>\", line 82:\n",
      "def tv_numba(X:np.array)->float:\n",
      "    <source elided>\n",
      "    sum = 0\n",
      "    for m in range(XDh.shape[0]):\n",
      "    ^\n",
      "\n",
      "\n",
      "/Users/yanivbenichou/miniforge3/envs/mlp/lib/python3.9/site-packages/numba/core/object_mode_passes.py:151: NumbaWarning:\n",
      "\n",
      "Function \"tv_numba\" was compiled in object mode without forceobj=True, but has lifted loops.\n",
      "\n",
      "File \"<ipython-input-14-027e397254b5>\", line 70:\n",
      "def tv(X):\n",
      "    <source elided>\n",
      "\n",
      "@jit\n",
      "^\n",
      "\n",
      "\n",
      "/Users/yanivbenichou/miniforge3/envs/mlp/lib/python3.9/site-packages/numba/core/object_mode_passes.py:161: NumbaDeprecationWarning:\n",
      "\n",
      "\n",
      "Fall-back from the nopython compilation path to the object mode compilation path has been detected. This is deprecated behaviour that will be removed in Numba 0.59.0.\n",
      "\n",
      "For more information visit https://numba.readthedocs.io/en/stable/reference/deprecation.html#deprecation-of-object-mode-fall-back-behaviour-when-using-jit\n",
      "\n",
      "File \"<ipython-input-14-027e397254b5>\", line 70:\n",
      "def tv(X):\n",
      "    <source elided>\n",
      "\n",
      "@jit\n",
      "^\n",
      "\n",
      "\n"
     ]
    },
    {
     "data": {
      "text/plain": [
       "2502.4341657454056"
      ]
     },
     "execution_count": 14,
     "metadata": {},
     "output_type": "execute_result"
    }
   ],
   "source": [
    "from numba import jit\n",
    "\n",
    "import warnings\n",
    "\n",
    "def fxn():\n",
    "    warnings.warn(\"deprecated\", DeprecationWarning)\n",
    "\n",
    "with warnings.catch_warnings():\n",
    "    warnings.simplefilter(\"ignore\")\n",
    "    fxn()\n",
    "\n",
    "# lab2\n",
    "def gradient2D(X):\n",
    "    '''\n",
    "    Computes the gradient of a 2D array\n",
    "    \n",
    "        Parameters:\n",
    "            X: 2D array\n",
    "\n",
    "        Returns:\n",
    "            xdh: gradient along the x axis\n",
    "            dvx: gradient along the y axis    \n",
    "    '''\n",
    "    \n",
    "    assert X.ndim == 2, \"X must be a 2D array\"\n",
    "    xdh=np.diff(X,axis=1)\n",
    "    dvx=np.diff(X.T,axis=1)\n",
    "    \n",
    "    xdh=np.concatenate((xdh,np.zeros((X.shape[0],1))),axis=1)\n",
    "    \n",
    "    dvx=np.concatenate((dvx,np.zeros((X.shape[1],1))),axis=1).T\n",
    "\n",
    "    return xdh,dvx\n",
    "\n",
    "@jit\n",
    "def gradient2D_numba(X):\n",
    "    assert X.ndim == 2, \"X must be a 2D array\"\n",
    "    \n",
    "    # Compute the differences along the two dimensions\n",
    "    xdh = np.diff(X, axis=1)\n",
    "    dvx = np.diff(X.T, axis=1)\n",
    "    \n",
    "    # Append zeros to maintain the same shape as X\n",
    "    xdh = np.concatenate((xdh, np.zeros((X.shape[0], 1))), axis=1)\n",
    "    dvx = np.concatenate((dvx, np.zeros((X.shape[1], 1))), axis=1)\n",
    "    \n",
    "    return xdh, dvx.T\n",
    "\n",
    "# lab2\n",
    "def tv(X):\n",
    "    '''\n",
    "    Computes the total variation of a 2D array by using the gradient2D function\n",
    "    \n",
    "        Parameters:\n",
    "            X: 2D array\n",
    "\n",
    "        Returns:\n",
    "            tv: total variation of X\n",
    "    '''\n",
    "\n",
    "\n",
    "    xdh,dvx=gradient2D(X)\n",
    "    tv=0\n",
    "    for m in range(X.shape[0]):\n",
    "        for n in range(X.shape[1]):\n",
    "            tv+=np.sqrt(xdh[m,n]**2+dvx[m,n]**2)\n",
    "    return tv \n",
    "# np.sum \n",
    "\n",
    "@jit\n",
    "def tv_numba(X:np.array)->float:\n",
    "    \"\"\"This function compute the discrete isotropic total variation of an input matrix in C^(M,N)\n",
    "\n",
    "    Args:\n",
    "        X (np.array): A matrix in C^(MxN)\n",
    "\n",
    "    Returns:\n",
    "        float: returns the value of the TV for the input matrix X\n",
    "    \"\"\"\n",
    "    XDh, DvX = gradient2D_numba(X)\n",
    "    sum = 0\n",
    "    for m in range(XDh.shape[0]):\n",
    "        for n in range(XDh.shape[1]):\n",
    "            sum+= np.sqrt(XDh[m,n]**2 + DvX[m,n]**2)\n",
    "    return sum\n",
    "\n",
    "\n",
    "loop = 100\n",
    "rng = np.random.default_rng(84548)\n",
    "M,N = rng.integers(low=50, high=100, size = 2)\n",
    "X = rng.random((M,N))\n",
    "tv_numba(X)\n"
   ]
  },
  {
   "cell_type": "code",
   "execution_count": 13,
   "metadata": {},
   "outputs": [
    {
     "name": "stdout",
     "output_type": "stream",
     "text": [
      "True\n"
     ]
    }
   ],
   "source": [
    "\n",
    "# Test que tv = tv_numba\n",
    "\n",
    "x=np.array([[1,2,3],[4,5,6],[7,8,9]])\n",
    "print(tv(x)==tv_numba(x)) "
   ]
  },
  {
   "cell_type": "markdown",
   "metadata": {},
   "source": [
    "2\\. Compare the runtime of the your numpy implementation and the `numba`-accelerated version (using `timeit.timeit`). \n",
    "> **Warning**: first run the numba version once to trigger the compilation, and then time it as usual. This is needed to avoid including the JIT compilation step in the runtime."
   ]
  },
  {
   "cell_type": "markdown",
   "metadata": {},
   "source": [
    "**Answer:**"
   ]
  },
  {
   "cell_type": "code",
   "execution_count": 11,
   "metadata": {},
   "outputs": [
    {
     "name": "stdout",
     "output_type": "stream",
     "text": [
      "261.41716727021867\n"
     ]
    }
   ],
   "source": [
    "loop = 100\n",
    "rng = np.random.default_rng(84548)\n",
    "M,N = rng.integers(low=50, high=100, size = 2)\n",
    "X = rng.random((M,N))\n",
    "\n",
    "execution_time = timeit.timeit(lambda: tv(X), number=loop) / loop\n",
    "\n",
    "execution_time_numba = timeit.timeit(lambda: tv_numba(X), number=loop) / loop\n",
    "\n",
    "print(execution_time/execution_time_numba)"
   ]
  },
  {
   "cell_type": "markdown",
   "metadata": {},
   "source": [
    "> L'implémentation avec numba est 261 fois plus rapide ici, cela montre bien l'utilité de numba ici."
   ]
  }
 ],
 "metadata": {
  "file_extension": ".py",
  "kernelspec": {
   "display_name": "Python 3.8.10 64-bit",
   "language": "python",
   "name": "python3"
  },
  "language_info": {
   "codemirror_mode": {
    "name": "ipython",
    "version": 3
   },
   "file_extension": ".py",
   "mimetype": "text/x-python",
   "name": "python",
   "nbconvert_exporter": "python",
   "pygments_lexer": "ipython3",
   "version": "3.9.12"
  },
  "mimetype": "text/x-python",
  "name": "python",
  "npconvert_exporter": "python",
  "pygments_lexer": "ipython3",
  "version": 3,
  "vscode": {
   "interpreter": {
    "hash": "916dbcbb3f70747c44a77c7bcd40155683ae19c65e1c03b4aa3499c5328201f1"
   }
  }
 },
 "nbformat": 4,
 "nbformat_minor": 4
}
